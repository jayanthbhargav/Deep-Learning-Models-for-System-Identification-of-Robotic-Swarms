{
  "nbformat": 4,
  "nbformat_minor": 0,
  "metadata": {
    "colab": {
      "name": "SINDy.ipynb",
      "provenance": [],
      "collapsed_sections": [
        "vNF164jnGh0S",
        "5IRq85IYGoWj",
        "3Wrb_xsRJR7d"
      ]
    },
    "kernelspec": {
      "name": "python3",
      "display_name": "Python 3"
    }
  },
  "cells": [
    {
      "cell_type": "markdown",
      "metadata": {
        "id": "LhPfyzGqLvYa",
        "colab_type": "text"
      },
      "source": [
        "**This notebook contains all the code for running Sparse Identification of Non Linear Dynamics (SINDy) using PySINDy. There are two sections: Models using Steady State Dynamics Data and Models using Transient Dynamics Data. Further, the model built using Transient Data is used to simulate further to predict steady state and assess the model's abilities to learn the true dynamics and steady state stability.**\n",
        "\n",
        "**Note: The data for transients and steady state are different and thus have to be imported with their respective paths in the drive.*"
      ]
    },
    {
      "cell_type": "markdown",
      "metadata": {
        "id": "vNF164jnGh0S",
        "colab_type": "text"
      },
      "source": [
        "## **IMPORTS**"
      ]
    },
    {
      "cell_type": "code",
      "metadata": {
        "id": "NlrpI4dDeim_",
        "colab_type": "code",
        "colab": {
          "base_uri": "https://localhost:8080/",
          "height": 125
        },
        "outputId": "c6835035-d805-443d-b1cb-c7a657b83bb0"
      },
      "source": [
        "import pandas as pd\n",
        "import numpy as np\n",
        "from matplotlib import pyplot as plt\n",
        "from scipy.integrate import odeint\n",
        "from matplotlib import animation\n",
        "import matplotlib\n",
        "import time\n",
        "import sys\n",
        "import math\n",
        "from matplotlib import animation, rc, rcParams\n",
        "from IPython.display import HTML\n",
        "import time\n",
        "import csv\n",
        "from IPython.display import display\n",
        "import os\n",
        "import torch\n",
        "import torch.nn as nn\n",
        "from torch.utils.data import DataLoader\n",
        "from torchvision.transforms import ToTensor\n",
        "import torch.nn.functional as F\n",
        "import random\n",
        "import numpy as np\n",
        "import matplotlib\n",
        "import pandas as pd\n",
        "import dill\n",
        "from PIL import Image\n",
        "import random\n",
        "import torchvision\n",
        "import torch.optim as optim\n",
        "import matplotlib.pyplot as plt\n",
        "import plotly.express as plotx\n",
        "!pip install pysindy\n",
        "import pysindy as ps"
      ],
      "execution_count": 29,
      "outputs": [
        {
          "output_type": "stream",
          "text": [
            "Requirement already satisfied: pysindy in /usr/local/lib/python3.6/dist-packages (0.15.3)\n",
            "Requirement already satisfied: scipy in /usr/local/lib/python3.6/dist-packages (from pysindy) (1.4.1)\n",
            "Requirement already satisfied: scikit-learn[alldeps]>=0.21 in /usr/local/lib/python3.6/dist-packages (from pysindy) (0.22.2.post1)\n",
            "Requirement already satisfied: numpy in /usr/local/lib/python3.6/dist-packages (from pysindy) (1.18.3)\n",
            "Requirement already satisfied: joblib>=0.11 in /usr/local/lib/python3.6/dist-packages (from scikit-learn[alldeps]>=0.21->pysindy) (0.14.1)\n"
          ],
          "name": "stdout"
        }
      ]
    },
    {
      "cell_type": "markdown",
      "metadata": {
        "id": "5IRq85IYGoWj",
        "colab_type": "text"
      },
      "source": [
        "## **SINDy MODEL FOR STEADY STATE**"
      ]
    },
    {
      "cell_type": "markdown",
      "metadata": {
        "id": "YOauq8UxG8oL",
        "colab_type": "text"
      },
      "source": [
        "### **SETTING UP DATA**"
      ]
    },
    {
      "cell_type": "code",
      "metadata": {
        "id": "Zq2i75kghjPe",
        "colab_type": "code",
        "outputId": "ae7562ea-72ce-4075-eb5e-0e434181de4e",
        "colab": {
          "base_uri": "https://localhost:8080/",
          "height": 125
        }
      },
      "source": [
        "from google.colab import drive\n",
        "drive.mount('/content/drive')"
      ],
      "execution_count": 0,
      "outputs": [
        {
          "output_type": "stream",
          "text": [
            "Go to this URL in a browser: https://accounts.google.com/o/oauth2/auth?client_id=947318989803-6bn6qk8qdgf4n4g3pfee6491hc0brc4i.apps.googleusercontent.com&redirect_uri=urn%3aietf%3awg%3aoauth%3a2.0%3aoob&response_type=code&scope=email%20https%3a%2f%2fwww.googleapis.com%2fauth%2fdocs.test%20https%3a%2f%2fwww.googleapis.com%2fauth%2fdrive%20https%3a%2f%2fwww.googleapis.com%2fauth%2fdrive.photos.readonly%20https%3a%2f%2fwww.googleapis.com%2fauth%2fpeopleapi.readonly\n",
            "\n",
            "Enter your authorization code:\n",
            "··········\n",
            "Mounted at /content/drive\n"
          ],
          "name": "stdout"
        }
      ]
    },
    {
      "cell_type": "code",
      "metadata": {
        "id": "njokkFVHhk3A",
        "colab_type": "code",
        "colab": {}
      },
      "source": [
        "\n",
        "file_name = '/content/drive/My Drive/522_HW4_Files/swarm_03242020_3000steps.csv'\n",
        "my_data = []\n",
        "with open(file_name) as csvDataFile:\n",
        "  csvReader = csv.reader(csvDataFile)\n",
        "  for row in csvReader:\n",
        "    my_data.append(row)\n",
        "pos_from_file = []\n",
        "vel_from_file =[]\n",
        "pos_line = []\n",
        "vel_line = []\n",
        "\n",
        "for i in range(len(my_data)):\n",
        "  for j in range(int(len(my_data[0])/2)):\n",
        "    try:\n",
        "      pos_line_str = my_data[i][j*2].lstrip('[').rstrip(']').split()\n",
        "      vel_line_str = my_data[i][j*2+1].lstrip('[').rstrip(']').split()\n",
        "    except:\n",
        "      pass\n",
        "    pos_line.append([float(pos_line_str[0]), float(pos_line_str[1])])\n",
        "    vel_line.append([float(vel_line_str[0]), float(vel_line_str[1])])\n",
        "  pos_from_file.append(pos_line)\n",
        "  vel_from_file.append(vel_line)\n",
        "  pos_line = []\n",
        "  vel_line = []"
      ],
      "execution_count": 0,
      "outputs": []
    },
    {
      "cell_type": "code",
      "metadata": {
        "id": "3OOCrQ2Hhmsw",
        "colab_type": "code",
        "colab": {}
      },
      "source": [
        "pos = []\n",
        "vel =[]\n",
        "for i in range(len(pos_from_file)):\n",
        "    pos.append(np.asarray(pos_from_file[i]))\n",
        "    vel.append(np.asarray(vel_from_file[i]))\n",
        "pos = np.asarray(pos)\n",
        "vel = np.asarray(vel)\n",
        "x = pos[:,:,0]\n",
        "y = pos[:,:,1]\n",
        "vx = vel[:,:,0]\n",
        "vy = vel[:,:,1]"
      ],
      "execution_count": 0,
      "outputs": []
    },
    {
      "cell_type": "code",
      "metadata": {
        "id": "ImFjtyK4hyZ3",
        "colab_type": "code",
        "colab": {}
      },
      "source": [
        "# CREATING FEATURES FOR ALL 32 AGENTS:\n",
        "# EACH AGENT LEARNS A MODEL. IT HAS 66 FEATURES: X & Y coordinates of all 32 agents + VX & VY of itself\n",
        "\n",
        "vxx = {}\n",
        "vyy = {}\n",
        "for i in range(32):\n",
        "  vxx[i] = vx[:,i].reshape(-1,1)\n",
        "  vyy[i] = vy[:,i].reshape(-1,1)\n",
        "\n",
        "agent = {}\n",
        "for i in range(32):\n",
        "  agent[i] = np.append(x,y,axis = 1)\n",
        "  agent[i] = np.append(agent[i],vxx[i],axis = 1)\n",
        "  agent[i] = np.append(agent[i],vyy[i],axis = 1)\n",
        "\n",
        "# agent[i] contains 3000 data points each having 66 features for training"
      ],
      "execution_count": 0,
      "outputs": []
    },
    {
      "cell_type": "code",
      "metadata": {
        "id": "PWRnb8uAQO3i",
        "colab_type": "code",
        "colab": {}
      },
      "source": [
        "# CREATE TRAINING AND TESTING DATASET: 2000 DATAPOINTS FOR TRAINING & 1000 DATAPOINTS FOR TESTING\n",
        "agent_train_data = {}\n",
        "agent_test_data = {}\n",
        "for i in range(32):\n",
        "  agent_train_data[i] = agent[i][:2000,:]\n",
        "  agent_test_data[i] = agent[i][2000:,:]"
      ],
      "execution_count": 0,
      "outputs": []
    },
    {
      "cell_type": "markdown",
      "metadata": {
        "id": "v1KquCaEHGJ9",
        "colab_type": "text"
      },
      "source": [
        "### **TRAINING SINDy MODEL**"
      ]
    },
    {
      "cell_type": "code",
      "metadata": {
        "id": "ONeFp7_a2RHO",
        "colab_type": "code",
        "colab": {}
      },
      "source": [
        "# POLYNOMIAL LIBRARY IS USED TO DEFINE THE SINDY MODEL\n",
        "feature_library = poly_library"
      ],
      "execution_count": 0,
      "outputs": []
    },
    {
      "cell_type": "code",
      "metadata": {
        "id": "JvhRD-7vF4GG",
        "colab_type": "code",
        "colab": {}
      },
      "source": [
        "dt = 0.0001\n",
        "list_models = []\n",
        "for i in range(32):\n",
        "    model= ps.SINDy(feature_library = feature_library)\n",
        "    model.fit(agent_train_data[i],t = dt)\n",
        "    list_models.append(model)"
      ],
      "execution_count": 0,
      "outputs": []
    },
    {
      "cell_type": "markdown",
      "metadata": {
        "id": "8BjzzbkSH6oG",
        "colab_type": "text"
      },
      "source": [
        "### **ACCESSING DERIVATIVES ON TEST DATA**"
      ]
    },
    {
      "cell_type": "code",
      "metadata": {
        "id": "TQ0OEn_XiBvx",
        "colab_type": "code",
        "colab": {}
      },
      "source": [
        "x_dot_test_computed = [None]*32\n",
        "for i in range(32):\n",
        "  x_dot_test_computed[i] = list_models[i].differentiate(agent_test_data[i], t=dt)\n",
        "x_dot_test_computed = np.asarray(x_dot_test_computed)"
      ],
      "execution_count": 0,
      "outputs": []
    },
    {
      "cell_type": "code",
      "metadata": {
        "id": "7A7Jzfu4SX_P",
        "colab_type": "code",
        "colab": {}
      },
      "source": [
        "x_dot_test_predicted = [None]*32\n",
        "for i in range(32):\n",
        "  x_dot_test_predicted[i] = list_models[i].differentiate(agent_test_data[i], t=dt)\n",
        "  #print('Model score: %f' % list_models[i].score(agent_test_data[i], t=dt))\n",
        "x_dot_test_predicted = np.asarray(x_dot_test_predicted)"
      ],
      "execution_count": 0,
      "outputs": []
    },
    {
      "cell_type": "markdown",
      "metadata": {
        "id": "b86d6MQeIkKT",
        "colab_type": "text"
      },
      "source": [
        "### **COMPARISION OF PREDICTIONS AND GROUND TRUTH**"
      ]
    },
    {
      "cell_type": "code",
      "metadata": {
        "colab_type": "code",
        "id": "W4zQ2e2YLL4k",
        "colab": {}
      },
      "source": [
        "import matplotlib.pyplot as plt\n",
        "NUMBER_OF_AGENTS = 32\n",
        "delta_x = [None]*NUMBER_OF_AGENTS\n",
        "delta_y = [None]*NUMBER_OF_AGENTS\n",
        "x0 = [None]*NUMBER_OF_AGENTS\n",
        "y0 = [None]*NUMBER_OF_AGENTS\n",
        "xt = [None]*NUMBER_OF_AGENTS\n",
        "yt = [None]*NUMBER_OF_AGENTS\n",
        "truth_x = [None]*NUMBER_OF_AGENTS\n",
        "truth_y = [None]*NUMBER_OF_AGENTS\n",
        "pred_x = [None]*NUMBER_OF_AGENTS\n",
        "pred_y = [None]*NUMBER_OF_AGENTS\n",
        "for i in range(NUMBER_OF_AGENTS):\n",
        "  delta_x[i] = x_dot_test_predicted[i][:,0+i]*dt\n",
        "  delta_y[i] = x_dot_test_predicted[i][:,NUMBER_OF_AGENTS+i]*dt\n",
        "  x0[i] = agent_test_data[i][0+i]\n",
        "  y0[i] = agent_test_data[i][NUMBER_OF_AGENTS+i]\n",
        "  xt[i] = agent_test_data[i][1:,0+i]\n",
        "  yt[i] = agent_test_data[i][1:,NUMBER_OF_AGENTS+i]\n",
        "\n",
        "  del_x = delta_x[0+i]\n",
        "  del_y = delta_y[0+i]\n",
        "  x00 = x0[0+i][0+i]\n",
        "  y00 = y0[0+i][NUMBER_OF_AGENTS+i]\n",
        "\n",
        "  xs = []\n",
        "  for dx in del_x:\n",
        "    x = x00\n",
        "    newx = x+dx\n",
        "    xs.append(newx)\n",
        "    x00 = newx\n",
        "\n",
        "  ys = []\n",
        "  for dy in del_y:\n",
        "    y = y00\n",
        "    newy = y+dy\n",
        "    ys.append(newy)\n",
        "    y00 = newy\n",
        "\n",
        "  truth_x[i]=xt[i]\n",
        "  pred_x[i]=xs  \n",
        "  truth_y[i]=yt[i]\n",
        "  pred_y[i]=ys\n",
        "  plt.plot(xs,label = \"Predicted\")\n",
        "  plt.plot(xt[i],label = \"Ground Truth\")\n",
        "  plt.legend()\n",
        "  plt.show()\n",
        "pred_x = np.array(pred_x).T\n",
        "pred_y = np.array(pred_y).T\n",
        "truth_x = np.array(truth_x).T\n",
        "truth_y = np.array(truth_y).T"
      ],
      "execution_count": 0,
      "outputs": []
    },
    {
      "cell_type": "markdown",
      "metadata": {
        "id": "YVnPLz1IIqcE",
        "colab_type": "text"
      },
      "source": [
        "### **MEAN FIELD ANALYSIS**"
      ]
    },
    {
      "cell_type": "code",
      "metadata": {
        "colab_type": "code",
        "id": "wTSQu6aboqhU",
        "colab": {}
      },
      "source": [
        "AGENT_COUNT =32\n",
        "x = pred_x\n",
        "y = pred_y\n",
        "x_gt = truth_x\n",
        "y_gt = truth_y\n",
        "pred_x = pred_x[0:len(pred_x)-1,:]\n",
        "pred_y = pred_y[0:len(pred_y)-1,:]\n",
        "mean_x = np.sum(x,axis=1)/AGENT_COUNT\n",
        "mean_y = np.sum(y,axis=1)/AGENT_COUNT\n",
        "mean_x_gt = np.sum(x_gt,axis=1)/AGENT_COUNT\n",
        "mean_y_gt = np.sum(y_gt,axis=1)/AGENT_COUNT"
      ],
      "execution_count": 0,
      "outputs": []
    },
    {
      "cell_type": "code",
      "metadata": {
        "colab_type": "code",
        "id": "6MzmIsNn276d",
        "colab": {}
      },
      "source": [
        "mean_field_distance = np.sqrt(((mean_x-mean_x_gt)**2 +(mean_y-mean_y_gt)**2 ))\n",
        "title = \"Mean Field Error [Trained on Transients]\"\n",
        "xlabel = \"Samples in Test Data\"\n",
        "ylabel = \"Distance between Predicted and True Mean Field\"\n",
        "ts = [t for t in range(len(mean_field_distance))]\n",
        "df = pd.DataFrame(list(zip(ts,mean_field_distance)),columns =[xlabel, ylabel]) \n",
        "fig = plotx.line(df, x=xlabel, y=ylabel)\n",
        "fig.update_layout(\n",
        "    title={\n",
        "        'text': title,\n",
        "        'y':0.95,\n",
        "        'x':0.5,\n",
        "        'xanchor': 'center',\n",
        "        'yanchor': 'top'})\n",
        "fig.update_layout(\n",
        "    autosize=False,\n",
        "    width=500,\n",
        "    height=500,\n",
        "    margin=dict(\n",
        "        l=50,\n",
        "        r=50,\n",
        "        b=100,\n",
        "        t=100,\n",
        "        pad=4\n",
        "    ),\n",
        "    paper_bgcolor=\"White\",\n",
        ")\n",
        "fig.update_yaxes(range=[0, 5])\n",
        "fig.show()"
      ],
      "execution_count": 0,
      "outputs": []
    },
    {
      "cell_type": "markdown",
      "metadata": {
        "id": "Sz9T43rzIt55",
        "colab_type": "text"
      },
      "source": [
        "### **GENERATING A VIDEO TO OBSERVE THE PREDICTED SWARM BEHAVIOUR**"
      ]
    },
    {
      "cell_type": "code",
      "metadata": {
        "id": "2H8qvagWY6og",
        "colab_type": "code",
        "colab": {}
      },
      "source": [
        "def make_animation(AGENT_COUNT, trueX,trueY,predX,predY,total_frame, save_name, include_true=True, include_pred=False, Compare=False, save=0):\n",
        "  ############ REPLAYING ANIMATION ############\n",
        "\n",
        "\n",
        "  # Making legends\n",
        "  blue_dot = mlines.Line2D([], [], color='blue', marker='.', linestyle='None',\n",
        "                            markersize=10, label='Prediction')\n",
        "  red_dot = mlines.Line2D([], [], color='red', marker='.', linestyle='None',\n",
        "                            markersize=10, label='Ground Truth')\n",
        "  blue_cross = mlines.Line2D([], [], color='blue', marker='+', linestyle='None',\n",
        "                          markersize=10, label='Pred Mean Field')\n",
        "  red_cross = mlines.Line2D([], [], color='red', marker='+', linestyle='None',\n",
        "                          markersize=10, label='True Mean Field')\n",
        "  legend_handle = []\n",
        "  if include_true:\n",
        "    legend_handle.append(red_dot)\n",
        "    legend_handle.append(red_cross)\n",
        "  if include_pred:\n",
        "    legend_handle.append(blue_dot)\n",
        "    legend_handle.append(blue_cross)\n",
        "  \n",
        "  plt.legend(handles=legend_handle)\n",
        "\n",
        "  pred_len = len(trueX)\n",
        "  print(\"Predicted number of time steps: \", pred_len)\n",
        "\n",
        "  x = predX\n",
        "  y = predY\n",
        "  x_gt = trueX\n",
        "  y_gt = trueY\n",
        "\n",
        "  mean_x = np.sum(x,axis=1)/AGENT_COUNT\n",
        "  mean_y = np.sum(y,axis=1)/AGENT_COUNT\n",
        "  mean_x_gt = np.sum(x_gt,axis=1)/AGENT_COUNT\n",
        "  mean_y_gt = np.sum(y_gt,axis=1)/AGENT_COUNT\n",
        "\n",
        "\n",
        "\n",
        "\n",
        "  x_min = np.amin(x)-0.5\n",
        "  x_max = np.amax(x)+0.5\n",
        "  y_min = np.amin(y)-0.5\n",
        "  y_max = np.amax(y)+0.5\n",
        "\n",
        "  fig = plt.figure()\n",
        "  fig.set_size_inches(8, 8)\n",
        "  ax = plt.axes(xlim=(x_min,x_max),ylim=(y_min,y_max))\n",
        "\n",
        "\n",
        "  # initialize animation parameters\n",
        "  if Compare:\n",
        "    gg = [Line2D([x_gt[0][0], x[0][0]],[y_gt[0][0], y[0][0]]) for i in range(AGENT_COUNT)]\n",
        "    for j in range(AGENT_COUNT):\n",
        "      gg[j], = ax.plot([x_gt[0][j], x[0][j]],[y_gt[0][j], y[0][j]], c='mediumspringgreen',marker='.')\n",
        "\n",
        "  if include_pred:\n",
        "    p, = ax.plot(x[0],y[0], c='blue',marker='.',linestyle='None')\n",
        "    p_mean, = ax.plot(mean_x[0],mean_y[0], c='blue',marker='+',linestyle='None')\n",
        "\n",
        "  if include_true:\n",
        "    t, = ax.plot(x_gt[0],y_gt[0], c='red',marker='.',linestyle='None')\n",
        "    t_mean, = ax.plot(mean_x_gt[0],mean_y_gt[0], c='red',marker='+',linestyle='None')\n",
        "\n",
        "\n",
        "  def animate(i):\n",
        "      plt.legend(handles=legend_handle)\n",
        "      if Compare:\n",
        "        for j in range(AGENT_COUNT):\n",
        "          gg[j].set_data([x_gt[i][j], x[i][j]],[y_gt[i][j], y[i][j]])\n",
        "\n",
        "      if include_pred:\n",
        "        p.set_data(x[i],y[i])\n",
        "        p_mean.set_data(mean_x[i],mean_y[i])\n",
        "      if include_true:\n",
        "        t.set_data(x_gt[i],y_gt[i])\n",
        "        t_mean.set_data(mean_x_gt[i],mean_y_gt[i])\n",
        "\n",
        "      if include_pred and include_true:\n",
        "        return p, t, p_mean, t_mean,\n",
        "      elif include_pred:\n",
        "        return p, p_mean,\n",
        "      else:\n",
        "        return t, t_mean,\n",
        "\n",
        "  # call the animator.  blit=True means only re-draw the parts that have changed.\n",
        "  anim = animation.FuncAnimation(fig, animate, frames=total_frame, interval=20, blit=True)\n",
        "  if save:\n",
        "    anim.save(save_name, writer=animation.FFMpegWriter(fps=20))\n",
        "  return anim"
      ],
      "execution_count": 0,
      "outputs": []
    },
    {
      "cell_type": "code",
      "metadata": {
        "id": "jPYn3iPyRHzD",
        "colab_type": "code",
        "colab": {}
      },
      "source": [
        "import matplotlib.lines as mlines\n",
        "SAVE_NAME = 'sindy_1.mp4'\n",
        "TOTAL_FRAME = 999\n",
        "anim = make_animation(AGENT_COUNT = 32, trueX = truth_x,trueY = truth_y,predX = pred_x,predY = pred_y,\n",
        "                      total_frame = TOTAL_FRAME, save_name = SAVE_NAME, \n",
        "                      include_true=True, include_pred=True, Compare=False, save=1)\n",
        "rc('animation', html='jshtml')\n",
        "anim"
      ],
      "execution_count": 0,
      "outputs": []
    },
    {
      "cell_type": "markdown",
      "metadata": {
        "id": "3Wrb_xsRJR7d",
        "colab_type": "text"
      },
      "source": [
        "## **SINDy MODEL FOR TRANSIENTS**"
      ]
    },
    {
      "cell_type": "markdown",
      "metadata": {
        "id": "pneMOAddJZS0",
        "colab_type": "text"
      },
      "source": [
        "### **SETTING UP DATA**"
      ]
    },
    {
      "cell_type": "code",
      "metadata": {
        "id": "bbLQK_6lCK2Q",
        "colab_type": "code",
        "colab": {}
      },
      "source": [
        "# READING THE DATA FROM A CSV FILE INTO LISTS - LOAD THE FILE PATH OF TRANSIENT DATA\n",
        "file_path = \"/content/drive/My Drive/522_PROJECT/diff_init_04112020/10_agent_3.csv\"\n",
        "my_data = []\n",
        "with open(file_path) as csvDataFile:\n",
        "  csvReader = csv.reader(csvDataFile)\n",
        "  for row in csvReader:\n",
        "    my_data.append(row)\n",
        "pos_from_file = []\n",
        "vel_from_file =[]\n",
        "pos_line = []\n",
        "vel_line = []\n",
        "\n",
        "for i in range(len(my_data)):\n",
        "  for j in range(int(len(my_data[0])/2)):\n",
        "    try:\n",
        "      pos_line_str = my_data[i][j*2].lstrip('[').rstrip(']').split()\n",
        "      vel_line_str = my_data[i][j*2+1].lstrip('[').rstrip(']').split()\n",
        "    except:\n",
        "      pass\n",
        "    pos_line.append([float(pos_line_str[0]), float(pos_line_str[1])])\n",
        "    vel_line.append([float(vel_line_str[0]), float(vel_line_str[1])])\n",
        "  pos_from_file.append(pos_line)\n",
        "  vel_from_file.append(vel_line)\n",
        "  pos_line = []\n",
        "  vel_line = []"
      ],
      "execution_count": 0,
      "outputs": []
    },
    {
      "cell_type": "code",
      "metadata": {
        "id": "dXkOYzjV4Uar",
        "colab_type": "code",
        "colab": {}
      },
      "source": [
        "# POSITION AND VELOCITIES OF THE AGENTS\n",
        "pos = []\n",
        "vel =[]\n",
        "for i in range(len(pos_from_file)):\n",
        "    pos.append(np.asarray(pos_from_file[i]))\n",
        "    vel.append(np.asarray(vel_from_file[i]))\n",
        "pos = np.asarray(pos)\n",
        "vel = np.asarray(vel)"
      ],
      "execution_count": 0,
      "outputs": []
    },
    {
      "cell_type": "code",
      "metadata": {
        "id": "2AJiswKDKJ9-",
        "colab_type": "code",
        "outputId": "101a6644-13af-4794-fbba-58dfe01bcad6",
        "colab": {
          "base_uri": "https://localhost:8080/",
          "height": 52
        }
      },
      "source": [
        "# UNDERSTANDING THE DATA AND GETTING X,Y COORDINATES AND VX,VY COMPONENTS OF VELOCITY\n",
        "x = pos[:,:,0]\n",
        "y = pos[:,:,1]\n",
        "vx = vel[:,:,0]\n",
        "vy = vel[:,:,1]\n",
        "TOTAL_SAMPLES = len(x)\n",
        "NUMBER_OF_AGENTS = 10\n",
        "print(\"Number of samples in the time series data:\",TOTAL_SAMPLES)\n",
        "print(\"Number of agents:\",NUMBER_OF_AGENTS)"
      ],
      "execution_count": 0,
      "outputs": [
        {
          "output_type": "stream",
          "text": [
            "Number of samples in the time series data: 250\n",
            "Number of agents: 10\n"
          ],
          "name": "stdout"
        }
      ]
    },
    {
      "cell_type": "code",
      "metadata": {
        "colab_type": "code",
        "outputId": "b54b86ba-39e0-47be-ff8e-2e7d82cdadcb",
        "id": "boxSLAelJlHF",
        "colab": {
          "base_uri": "https://localhost:8080/",
          "height": 34
        }
      },
      "source": [
        "# CREATING FEATURES FOR ALL AGENTS:\n",
        "# EACH AGENT LEARNS A MODEL. IT HAS 22 FEATURES: X & Y coordinates of all 10 agents + VX & VY of itself\n",
        "\n",
        "vxx = {}\n",
        "vyy = {}\n",
        "for i in range(NUMBER_OF_AGENTS):\n",
        "  vxx[i] = vx[:,i].reshape(-1,1)\n",
        "  vyy[i] = vy[:,i].reshape(-1,1)\n",
        "\n",
        "agent = {}\n",
        "for i in range(NUMBER_OF_AGENTS):\n",
        "  agent[i] = np.append(x,y,axis = 1)\n",
        "  agent[i] = np.append(agent[i],vxx[i],axis = 1)\n",
        "  agent[i] = np.append(agent[i],vyy[i],axis = 1)\n",
        "# agent[i] contains 250 data points each having 22 features for training\n",
        "print(\"Training data is a numpy array of shape:\",agent[0].shape)"
      ],
      "execution_count": 0,
      "outputs": [
        {
          "output_type": "stream",
          "text": [
            "Training data is a numpy array of shape: (250, 22)\n"
          ],
          "name": "stdout"
        }
      ]
    },
    {
      "cell_type": "code",
      "metadata": {
        "colab_type": "code",
        "id": "GRVbhMe8JlHI",
        "colab": {}
      },
      "source": [
        "# CREATE TRAINING AND TESTING DATASET: 200 DATAPOINTS FOR TRAINING & 50 DATAPOINTS FOR TESTING\n",
        "TRAIN_TEST_SPLIT = 100\n",
        "agent_train_data = {}\n",
        "agent_test_data = {}\n",
        "for i in range(NUMBER_OF_AGENTS):\n",
        "  agent_train_data[i] = agent[i][:TRAIN_TEST_SPLIT,:]\n",
        "  agent_test_data[i] = agent[i][TRAIN_TEST_SPLIT:,:]"
      ],
      "execution_count": 0,
      "outputs": []
    },
    {
      "cell_type": "markdown",
      "metadata": {
        "id": "JSUSPoBjJshW",
        "colab_type": "text"
      },
      "source": [
        "### **TRAINING SINDy MODEL**"
      ]
    },
    {
      "cell_type": "code",
      "metadata": {
        "id": "Q6uqVpP5h-1l",
        "colab_type": "code",
        "colab": {}
      },
      "source": [
        "# Custom Library for building Sparse Regression Model\n",
        "def choose_function_library(library_index):\n",
        "    #CHOICE 1: POLYNOMIAL LIBRARY \n",
        "    poly_library = ps.PolynomialLibrary\n",
        "    #-------------------------------------------------------------------\n",
        "    #CHOICE 2: POLYNOMIAL LIBRARY WITHOUT INTERACTION TERMS\n",
        "    poly_library_1 = ps.PolynomialLibrary(include_interaction=False)\n",
        "    #-------------------------------------------------------------------\n",
        "    #CHOICE 3: FOURIER LIBRARY\n",
        "    fourier_library = ps.FourierLibrary(n_frequencies=3)\n",
        "    #-------------------------------------------------------------------\n",
        "    #CHOICE 4: FULLY CUSTOM LIBRARY 1\n",
        "    library_functions_1 = [\n",
        "        lambda x : x,\n",
        "        lambda x : np.sin(x),\n",
        "        lambda x : np.cos(x),\n",
        "        lambda x : np.exp(x),\n",
        "        lambda x : 1./x,\n",
        "        lambda x : np.sqrt(abs(x)),\n",
        "        lambda x : np.log(abs(x)),\n",
        "        lambda x : x*x*x,\n",
        "        lambda x : np.abs(x),\n",
        "        lambda x : np.tanh(x),\n",
        "        lambda x : x*x,\n",
        "        lambda x : (1-x*x)*x]\n",
        "    custom_library_1 = ps.CustomLibrary(library_functions=library_functions_1)\n",
        "    #-------------------------------------------------------------------\n",
        "    #CHOICE 5: FULLY CUSTOM LIBRARY 2\n",
        "    library_functions_2 = [\n",
        "        lambda x,y : x*y,\n",
        "        lambda x,y : x-y,\n",
        "        lambda x,y : x/y,\n",
        "        lambda x : 1./x,\n",
        "        lambda x,y : x*y*y ,\n",
        "        lambda x,y : x*x*y*y*y,\n",
        "        lambda x : x*x*x,\n",
        "        lambda x : np.exp(x),\n",
        "        lambda x : np.tanh(x)]\n",
        "    custom_library_2 = ps.CustomLibrary(library_functions=library_functions_2)\n",
        "\n",
        "    if library_index == 1:\n",
        "       feature_library = poly_library\n",
        "       mode_ = \"POLYNOMIAL LIBRARY\"\n",
        "    elif library_index == 2:\n",
        "         feature_library = poly_library_1\n",
        "         mode_ = \"POLYNOMIAL LIBRARY WITHOUT INTERACTION TERMS\"\n",
        "    elif library_index == 3:\n",
        "         feature_library = fourier_library\n",
        "         mode_ = \"FOURIER LIBRARY\"\n",
        "    elif library_index == 4:\n",
        "         feature_library = custom_library_1\n",
        "         mode_ = \"FULLY CUSTOM LIBRARY 1 (WITH MEMEBER FUNCTIONS)\"\n",
        "    elif library_index == 5:\n",
        "         feature_library = custom_library_2 \n",
        "         mode_ = \"FULLY CUSTOM LIBRARY 2 (WITHOUT MEMBER FUNCTIONS)\"\n",
        "    return feature_library,mode_"
      ],
      "execution_count": 0,
      "outputs": []
    },
    {
      "cell_type": "code",
      "metadata": {
        "colab_type": "code",
        "outputId": "0ea7dbdc-4cdb-4a4e-e88c-2bd22ebe5547",
        "id": "NUZo_WtSJlHO",
        "colab": {
          "base_uri": "https://localhost:8080/",
          "height": 34
        }
      },
      "source": [
        "# CHOOSE FUNCTION LIBRARY OF SINDY FOR BUILDING MODELS\n",
        "#------------------------------------------------------\n",
        "#CHOICE 1: POLYNOMIAL LIBRARY\n",
        "#CHOICE 2: POLYNOMIAL LIBRARY WITHOUT INTERACTION TERMS\n",
        "#CHOICE 3: FOURIER LIBRARY\n",
        "#CHOICE 4: FULLY CUSTOM LIBRARY 1 (WITHOUT INTERACTION FUNCTIONS)\n",
        "#CHOICE 5: FULLY CUSTOM LIBRARY 2 (WITH INTERACTION FUNCTIONS)\n",
        "choice = 4\n",
        "feature_library,mode_ = choose_function_library(choice)\n",
        "print(\"Chosen Library is:\",mode_)"
      ],
      "execution_count": 0,
      "outputs": [
        {
          "output_type": "stream",
          "text": [
            "Chosen Library is: FULLY CUSTOM LIBRARY 1 (WITH MEMEBER FUNCTIONS)\n"
          ],
          "name": "stdout"
        }
      ]
    },
    {
      "cell_type": "code",
      "metadata": {
        "colab_type": "code",
        "id": "3-tZQbAYJlHQ",
        "colab": {}
      },
      "source": [
        "# SPARSE REGRESSION MODEL BUILDING USING THE FUNCTION LIBRARY AND AGENT TRAIN DATA\n",
        "dt = 0.0001\n",
        "list_models = []\n",
        "for i in range(NUMBER_OF_AGENTS):\n",
        "    if choice == 1:\n",
        "      model = ps.SINDy()\n",
        "    else:\n",
        "      model= ps.SINDy(feature_library = feature_library)\n",
        "    model.fit(agent_train_data[i],t = dt)\n",
        "    list_models.append(model)"
      ],
      "execution_count": 0,
      "outputs": []
    },
    {
      "cell_type": "markdown",
      "metadata": {
        "id": "DQfgwryAJy3C",
        "colab_type": "text"
      },
      "source": [
        "### **ACCESSING DERIVATIVES ON TEST DATA**"
      ]
    },
    {
      "cell_type": "code",
      "metadata": {
        "colab_type": "code",
        "id": "ysYfVvOFKkXh",
        "colab": {}
      },
      "source": [
        "x_dot_test_computed = [None]*32\n",
        "for i in range(32):\n",
        "  x_dot_test_computed[i] = list_models[i].differentiate(agent_test_data[i], t=dt)\n",
        "x_dot_test_computed = np.asarray(x_dot_test_computed)"
      ],
      "execution_count": 0,
      "outputs": []
    },
    {
      "cell_type": "code",
      "metadata": {
        "colab_type": "code",
        "id": "OZ6m7evFJlHS",
        "colab": {}
      },
      "source": [
        "# ACCESSING THE DERIVATIVES OF THE TEST DATA : PREDICTED DERIVATIVES\n",
        "x_dot_test_predicted = [None]*NUMBER_OF_AGENTS\n",
        "for i in range(NUMBER_OF_AGENTS):\n",
        "  x_dot_test_predicted[i] = list_models[i].differentiate(agent_test_data[i],t=dt)\n",
        "x_dot_test_predicted = np.asarray(x_dot_test_predicted)"
      ],
      "execution_count": 0,
      "outputs": []
    },
    {
      "cell_type": "markdown",
      "metadata": {
        "id": "FXu3n10kKrFE",
        "colab_type": "text"
      },
      "source": [
        "### **COMPARISION OF PREDICITONS AND GROUND TRUTH**"
      ]
    },
    {
      "cell_type": "code",
      "metadata": {
        "id": "8kfGWB5qPkLf",
        "colab_type": "code",
        "colab": {}
      },
      "source": [
        "import matplotlib.pyplot as plt\n",
        "delta_x = [None]*NUMBER_OF_AGENTS\n",
        "delta_y = [None]*NUMBER_OF_AGENTS\n",
        "x0 = [None]*NUMBER_OF_AGENTS\n",
        "y0 = [None]*NUMBER_OF_AGENTS\n",
        "xt = [None]*NUMBER_OF_AGENTS\n",
        "yt = [None]*NUMBER_OF_AGENTS\n",
        "truth_x = [None]*NUMBER_OF_AGENTS\n",
        "truth_y = [None]*NUMBER_OF_AGENTS\n",
        "pred_x = [None]*NUMBER_OF_AGENTS\n",
        "pred_y = [None]*NUMBER_OF_AGENTS\n",
        "for i in range(NUMBER_OF_AGENTS):\n",
        "  delta_x[i] = x_dot_test_predicted[i][:,0+i]*dt\n",
        "  delta_y[i] = x_dot_test_predicted[i][:,NUMBER_OF_AGENTS+i]*dt\n",
        "  x0[i] = agent_test_data[i][0+i]\n",
        "  y0[i] = agent_test_data[i][NUMBER_OF_AGENTS+i]\n",
        "  xt[i] = agent_test_data[i][1:,0+i]\n",
        "  yt[i] = agent_test_data[i][1:,NUMBER_OF_AGENTS+i]\n",
        "\n",
        "  del_x = delta_x[0+i]\n",
        "  del_y = delta_y[0+i]\n",
        "  x00 = x0[0+i][0+i]\n",
        "  y00 = y0[0+i][NUMBER_OF_AGENTS+i]\n",
        "\n",
        "  xs = []\n",
        "  for dx in del_x:\n",
        "    x = x00\n",
        "    newx = x+dx\n",
        "    xs.append(newx)\n",
        "    x00 = newx\n",
        "\n",
        "  ys = []\n",
        "  for dy in del_y:\n",
        "    y = y00\n",
        "    newy = y+dy\n",
        "    ys.append(newy)\n",
        "    y00 = newy\n",
        "\n",
        "  truth_x[i]=xt[i]\n",
        "  pred_x[i]=xs  \n",
        "  truth_y[i]=yt[i]\n",
        "  pred_y[i]=ys\n",
        "  # plt.plot(xs,label = \"Predicted\")\n",
        "  # plt.plot(xt[i],label = \"Ground Truth\")\n",
        "  # plt.legend()\n",
        "  # plt.show()\n",
        "pred_x = np.array(pred_x).T\n",
        "pred_y = np.array(pred_y).T\n",
        "truth_x = np.array(truth_x).T\n",
        "truth_y = np.array(truth_y).T"
      ],
      "execution_count": 0,
      "outputs": []
    },
    {
      "cell_type": "markdown",
      "metadata": {
        "id": "sJ2IT__dJ-ai",
        "colab_type": "text"
      },
      "source": [
        "### **MEAN FIELD ANALYSIS**"
      ]
    },
    {
      "cell_type": "code",
      "metadata": {
        "colab_type": "code",
        "id": "EtHZal6BJ7sU",
        "colab": {}
      },
      "source": [
        "AGENT_COUNT =32\n",
        "x = pred_x\n",
        "y = pred_y\n",
        "x_gt = truth_x\n",
        "y_gt = truth_y\n",
        "pred_x = pred_x[0:len(pred_x)-1,:]\n",
        "pred_y = pred_y[0:len(pred_y)-1,:]\n",
        "mean_x = np.sum(x,axis=1)/AGENT_COUNT\n",
        "mean_y = np.sum(y,axis=1)/AGENT_COUNT\n",
        "mean_x_gt = np.sum(x_gt,axis=1)/AGENT_COUNT\n",
        "mean_y_gt = np.sum(y_gt,axis=1)/AGENT_COUNT"
      ],
      "execution_count": 0,
      "outputs": []
    },
    {
      "cell_type": "code",
      "metadata": {
        "colab_type": "code",
        "id": "q1XqOnMCJ7sY",
        "colab": {}
      },
      "source": [
        "mean_field_distance = np.sqrt(((mean_x-mean_x_gt)**2 +(mean_y-mean_y_gt)**2 ))\n",
        "title = \"Mean Field Error [Trained on Transients]\"\n",
        "xlabel = \"Samples in Test Data\"\n",
        "ylabel = \"Distance between Predicted and True Mean Field\"\n",
        "ts = [t for t in range(len(mean_field_distance))]\n",
        "df = pd.DataFrame(list(zip(ts,mean_field_distance)),columns =[xlabel, ylabel]) \n",
        "fig = plotx.line(df, x=xlabel, y=ylabel)\n",
        "fig.update_layout(\n",
        "    title={\n",
        "        'text': title,\n",
        "        'y':0.95,\n",
        "        'x':0.5,\n",
        "        'xanchor': 'center',\n",
        "        'yanchor': 'top'})\n",
        "fig.update_layout(\n",
        "    autosize=False,\n",
        "    width=500,\n",
        "    height=500,\n",
        "    margin=dict(\n",
        "        l=50,\n",
        "        r=50,\n",
        "        b=100,\n",
        "        t=100,\n",
        "        pad=4\n",
        "    ),\n",
        "    paper_bgcolor=\"White\",\n",
        ")\n",
        "fig.update_yaxes(range=[0, 5])\n",
        "fig.show()"
      ],
      "execution_count": 0,
      "outputs": []
    },
    {
      "cell_type": "markdown",
      "metadata": {
        "id": "EFNzDr6TKB15",
        "colab_type": "text"
      },
      "source": [
        "### **GENERATING A VIDEO TO OBSERVE THE PREDICTED SWARM BEHAVIOUR**"
      ]
    },
    {
      "cell_type": "code",
      "metadata": {
        "colab_type": "code",
        "id": "_oBqVwJkJlHX",
        "colab": {}
      },
      "source": [
        "def make_animation(AGENT_COUNT, trueX,trueY,predX,predY,total_frame, save_name, include_true=True, include_pred=False, Compare=False, save=0):\n",
        "  ############ REPLAYING ANIMATION ############\n",
        "\n",
        "\n",
        "  # Making legends\n",
        "  blue_dot = mlines.Line2D([], [], color='blue', marker='.', linestyle='None',\n",
        "                            markersize=10, label='Prediction')\n",
        "  red_dot = mlines.Line2D([], [], color='red', marker='.', linestyle='None',\n",
        "                            markersize=10, label='Ground Truth')\n",
        "  blue_cross = mlines.Line2D([], [], color='blue', marker='+', linestyle='None',\n",
        "                          markersize=10, label='Pred Mean Field')\n",
        "  red_cross = mlines.Line2D([], [], color='red', marker='+', linestyle='None',\n",
        "                          markersize=10, label='True Mean Field')\n",
        "  legend_handle = []\n",
        "  if include_true:\n",
        "    legend_handle.append(red_dot)\n",
        "    legend_handle.append(red_cross)\n",
        "  if include_pred:\n",
        "    legend_handle.append(blue_dot)\n",
        "    legend_handle.append(blue_cross)\n",
        "  \n",
        "  plt.legend(handles=legend_handle)\n",
        "\n",
        "  pred_len = len(trueX)\n",
        "  print(\"Predicted number of time steps: \", pred_len)\n",
        "\n",
        "  x = predX\n",
        "  y = predY\n",
        "  x_gt = trueX\n",
        "  y_gt = trueY\n",
        "\n",
        "  mean_x = np.sum(x,axis=1)/AGENT_COUNT\n",
        "  mean_y = np.sum(y,axis=1)/AGENT_COUNT\n",
        "  mean_x_gt = np.sum(x_gt,axis=1)/AGENT_COUNT\n",
        "  mean_y_gt = np.sum(y_gt,axis=1)/AGENT_COUNT\n",
        "\n",
        "\n",
        "\n",
        "\n",
        "  x_min = np.amin(x)-0.5\n",
        "  x_max = np.amax(x)+0.5\n",
        "  y_min = np.amin(y)-0.5\n",
        "  y_max = np.amax(y)+0.5\n",
        "\n",
        "  fig = plt.figure()\n",
        "  fig.set_size_inches(8, 8)\n",
        "  ax = plt.axes(xlim=(x_min,x_max),ylim=(y_min,y_max))\n",
        "\n",
        "\n",
        "  # initialize animation parameters\n",
        "  if Compare:\n",
        "    gg = [Line2D([x_gt[0][0], x[0][0]],[y_gt[0][0], y[0][0]]) for i in range(AGENT_COUNT)]\n",
        "    for j in range(AGENT_COUNT):\n",
        "      gg[j], = ax.plot([x_gt[0][j], x[0][j]],[y_gt[0][j], y[0][j]], c='mediumspringgreen',marker='.')\n",
        "\n",
        "  if include_pred:\n",
        "    p, = ax.plot(x[0],y[0], c='blue',marker='.',linestyle='None')\n",
        "    p_mean, = ax.plot(mean_x[0],mean_y[0], c='blue',marker='+',linestyle='None')\n",
        "\n",
        "  if include_true:\n",
        "    t, = ax.plot(x_gt[0],y_gt[0], c='red',marker='.',linestyle='None')\n",
        "    t_mean, = ax.plot(mean_x_gt[0],mean_y_gt[0], c='red',marker='+',linestyle='None')\n",
        "\n",
        "\n",
        "  def animate(i):\n",
        "      plt.legend(handles=legend_handle)\n",
        "      if Compare:\n",
        "        for j in range(AGENT_COUNT):\n",
        "          gg[j].set_data([x_gt[i][j], x[i][j]],[y_gt[i][j], y[i][j]])\n",
        "\n",
        "      if include_pred:\n",
        "        p.set_data(x[i],y[i])\n",
        "        p_mean.set_data(mean_x[i],mean_y[i])\n",
        "      if include_true:\n",
        "        t.set_data(x_gt[i],y_gt[i])\n",
        "        t_mean.set_data(mean_x_gt[i],mean_y_gt[i])\n",
        "\n",
        "      if include_pred and include_true:\n",
        "        return p, t, p_mean, t_mean,\n",
        "      elif include_pred:\n",
        "        return p, p_mean,\n",
        "      else:\n",
        "        return t, t_mean,\n",
        "\n",
        "  # call the animator.  blit=True means only re-draw the parts that have changed.\n",
        "  anim = animation.FuncAnimation(fig, animate, frames=total_frame, interval=20, blit=True)\n",
        "  if save:\n",
        "    anim.save(save_name, writer=animation.FFMpegWriter(fps=20))\n",
        "  return anim"
      ],
      "execution_count": 0,
      "outputs": []
    },
    {
      "cell_type": "markdown",
      "metadata": {
        "id": "YWsmXoErK9Fu",
        "colab_type": "text"
      },
      "source": [
        "### **EXTENDING MODEL PREDICITONS TO STEADY STATE**"
      ]
    },
    {
      "cell_type": "code",
      "metadata": {
        "colab_type": "code",
        "id": "M5ENx5VczAef",
        "colab": {}
      },
      "source": [
        "# ACCESSING THE DERIVATIVES OF THE TEST DATA : PREDICTED DERIVATIVES 1000 TIME STEPS AHEAD INTO STEADY STATE\n",
        "x_dot_test_predicted = [None]*NUMBER_OF_AGENTS\n",
        "for i in range(NUMBER_OF_AGENTS):\n",
        "  x_dot_test_predicted[i] = list_models[i].differentiate(agent_test_data[i],t=dt)\n",
        "x_dot_test_predicted = np.asarray(x_dot_test_predicted)"
      ],
      "execution_count": 0,
      "outputs": []
    },
    {
      "cell_type": "code",
      "metadata": {
        "colab_type": "code",
        "id": "BMH8tzqZzAek",
        "colab": {}
      },
      "source": [
        "import matplotlib.pyplot as plt\n",
        "delta_x = [None]*NUMBER_OF_AGENTS\n",
        "delta_y = [None]*NUMBER_OF_AGENTS\n",
        "x0 = [None]*NUMBER_OF_AGENTS\n",
        "y0 = [None]*NUMBER_OF_AGENTS\n",
        "xt = [None]*NUMBER_OF_AGENTS\n",
        "yt = [None]*NUMBER_OF_AGENTS\n",
        "truth_x = [None]*NUMBER_OF_AGENTS\n",
        "truth_y = [None]*NUMBER_OF_AGENTS\n",
        "pred_x = [None]*NUMBER_OF_AGENTS\n",
        "pred_y = [None]*NUMBER_OF_AGENTS\n",
        "for i in range(NUMBER_OF_AGENTS):\n",
        "  delta_x[i] = x_dot_test_predicted[i][:,0+i]*dt\n",
        "  delta_y[i] = x_dot_test_predicted[i][:,NUMBER_OF_AGENTS+i]*dt\n",
        "  x0[i] = agent_test_data[i][0+i]\n",
        "  y0[i] = agent_test_data[i][NUMBER_OF_AGENTS+i]\n",
        "  xt[i] = agent_test_data[i][1:,0+i]\n",
        "  yt[i] = agent_test_data[i][1:,NUMBER_OF_AGENTS+i]\n",
        "\n",
        "  del_x = delta_x[0+i]\n",
        "  del_y = delta_y[0+i]\n",
        "  x00 = x0[0+i][0+i]\n",
        "  y00 = y0[0+i][NUMBER_OF_AGENTS+i]\n",
        "\n",
        "  xs = []\n",
        "  for dx in del_x:\n",
        "    x = x00\n",
        "    newx = x+dx\n",
        "    xs.append(newx)\n",
        "    x00 = newx\n",
        "\n",
        "  ys = []\n",
        "  for dy in del_y:\n",
        "    y = y00\n",
        "    newy = y+dy\n",
        "    ys.append(newy)\n",
        "    y00 = newy\n",
        "\n",
        "  truth_x[i]=xt[i]\n",
        "  pred_x[i]=xs  \n",
        "  truth_y[i]=yt[i]\n",
        "  pred_y[i]=ys\n",
        "  # plt.plot(xs,label = \"Predicted\")\n",
        "  # plt.plot(xt[i],label = \"Ground Truth\")\n",
        "  # plt.legend()\n",
        "  # plt.show()\n",
        "pred_x = np.array(pred_x).T\n",
        "pred_y = np.array(pred_y).T\n",
        "truth_x = np.array(truth_x).T\n",
        "truth_y = np.array(truth_y).T"
      ],
      "execution_count": 0,
      "outputs": []
    },
    {
      "cell_type": "code",
      "metadata": {
        "colab_type": "code",
        "id": "uoxOJkZCPPvN",
        "colab": {}
      },
      "source": [
        "SAVE_NAME = 'sindy_2.mp4'\n",
        "TOTAL_FRAME = 999\n",
        "anim = make_animation(AGENT_COUNT = 10, trueX = truth_x,trueY = truth_y,predX = pred_x,predY = pred_y,\n",
        "                      total_frame = TOTAL_FRAME, save_name = SAVE_NAME, \n",
        "                      include_true=False, include_pred=True, Compare=False, save=1)\n",
        "rc('animation', html='jshtml')\n",
        "anim"
      ],
      "execution_count": 0,
      "outputs": []
    }
  ]
}